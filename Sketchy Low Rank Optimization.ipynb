{
 "cells": [
  {
   "cell_type": "code",
   "execution_count": 1,
   "metadata": {},
   "outputs": [],
   "source": [
    "import numpy as np\n",
    "import matplotlib.pyplot as plt"
   ]
  },
  {
   "cell_type": "code",
   "execution_count": 2,
   "metadata": {},
   "outputs": [
    {
     "data": {
      "text/plain": [
       "<matplotlib.image.AxesImage at 0x11b81a978>"
      ]
     },
     "execution_count": 2,
     "metadata": {},
     "output_type": "execute_result"
    },
    {
     "data": {
      "image/png": "[encoded data removed]",
      "text/plain": [
       "<Figure size 432x288 with 1 Axes>"
      ]
     },
     "metadata": {
      "needs_background": "light"
     },
     "output_type": "display_data"
    }
   ],
   "source": [
    "from PIL import Image, ImageDraw\n",
    "import requests\n",
    "\n",
    "url = 'https://www.worldgbc.org/sites/default/files/Content%20pages%20old%20europe%20buildings.jpg'\n",
    "path = \"./BloodImage_00004.jpg\"\n",
    "\n",
    "# img = Image.open(requests.get(url, stream=True).raw).convert('L')\n",
    "img = Image.open(path).convert('L')\n",
    "# img = np.array(img).astype(np.float64)[:, 400:950] / 255\n",
    "img = np.array(img).astype(np.float64)[:128, :128]\n",
    "\n",
    "plt.imshow(img, cmap='gray')"
   ]
  },
  {
   "cell_type": "code",
   "execution_count": 3,
   "metadata": {},
   "outputs": [
    {
     "data": {
      "text/plain": [
       "103.58891037928727"
      ]
     },
     "execution_count": 3,
     "metadata": {},
     "output_type": "execute_result"
    }
   ],
   "source": [
    "X_orig = img.copy() / 255\n",
    "\n",
    "np.linalg.norm(X_orig, ord=\"nuc\")"
   ]
  },
  {
   "cell_type": "code",
   "execution_count": 4,
   "metadata": {},
   "outputs": [],
   "source": [
    "def f(x, b):\n",
    "    return np.sum((x - b) ** 2)\n",
    "\n",
    "def grad_f(x):\n",
    "    b = X_orig.copy().reshape(-1)\n",
    "    return 2 * (x - b) "
   ]
  },
  {
   "cell_type": "code",
   "execution_count": 5,
   "metadata": {},
   "outputs": [],
   "source": [
    "def f(x, b):\n",
    "    return np.mean(x - b * np.log(x))\n",
    "\n",
    "def grad_f(x):\n",
    "    b = X_orig.copy().reshape(-1)\n",
    "    return 1 - b / x"
   ]
  },
  {
   "cell_type": "code",
   "execution_count": 6,
   "metadata": {},
   "outputs": [],
   "source": [
    "def A(X):\n",
    "    return X.reshape(-1)\n",
    "\n",
    "def A_star(x):\n",
    "    return x.reshape(X_orig.shape)"
   ]
  },
  {
   "cell_type": "code",
   "execution_count": 7,
   "metadata": {},
   "outputs": [],
   "source": [
    "X_0 = X_orig.copy()"
   ]
  },
  {
   "cell_type": "code",
   "execution_count": 8,
   "metadata": {},
   "outputs": [],
   "source": [
    "err = []"
   ]
  },
  {
   "cell_type": "code",
   "execution_count": 9,
   "metadata": {},
   "outputs": [],
   "source": [
    "from scipy.sparse import linalg as slin\n",
    "from tqdm import tqdm\n",
    "\n",
    "class Sketch:\n",
    "    def __init__(self):\n",
    "        self.Omega = None\n",
    "        self.Psi = None\n",
    "        self.Y = None\n",
    "        self.W = None\n",
    "        self.shape = None\n",
    "        self.r = 0\n",
    "    \n",
    "    def init(self, X_orig, r):\n",
    "        self.r = r\n",
    "        \n",
    "        m, n = X_orig.shape\n",
    "        self.shape = X_orig.shape\n",
    "        \n",
    "        k = 2 * r + 1\n",
    "        l = 4 * r + 3\n",
    "        \n",
    "        self.Omega = np.random.randn(n, k)\n",
    "        self.Psi = np.random.randn(l, m)\n",
    "        \n",
    "        self.Y = np.zeros((m, k))\n",
    "        self.W = np.zeros((l, n))\n",
    "\n",
    "#         self.Y = X_orig @ self.Omega\n",
    "#         self.W = self.Psi @ X_orig\n",
    "        \n",
    "    def CGMU_update(self, u, v, nu):\n",
    "        self.Y = (1 - nu) * self.Y + nu * u @ (v.conj().T @ self.Omega)\n",
    "        self.W = (1 - nu) * self.W + nu * (self.Psi @ u) @ v.conj().T\n",
    "        \n",
    "    def reconstruct(self):\n",
    "        Q, _ = np.linalg.qr(self.Y)\n",
    "        B = np.linalg.pinv(self.Psi @ Q) @ self.W\n",
    "        \n",
    "        U, S, V = np.linalg.svd(B, full_matrices=False)\n",
    "                \n",
    "        return Q @ U[:,:self.r] @ np.diag(S[:self.r]) @ V[:self.r,:]\n",
    "    \n",
    "    def factorize(self, num_iter=50, alpha = 1.0, eps=1e-10):\n",
    "        z = np.ones(self.shape).reshape(-1)\n",
    "        \n",
    "        for i in tqdm(range(num_iter)):\n",
    "            u, _, v = np.linalg.svd(A_star(grad_f(z)))\n",
    "            u = u[:,:1]\n",
    "            v = v[:1,:].conj().T\n",
    "            \n",
    "            h = A((-alpha * u @ v.T))\n",
    "            e = (z - h) @ grad_f(z)\n",
    "            \n",
    "            err.append(np.abs(e))\n",
    "            if np.abs(e) <= eps :\n",
    "                break\n",
    "            \n",
    "            nu = 2 / (i + 2)\n",
    "            z = (1 - nu) * z + nu * h\n",
    "            self.CGMU_update(-alpha * u, v, nu)"
   ]
  },
  {
   "cell_type": "code",
   "execution_count": 10,
   "metadata": {
    "scrolled": true
   },
   "outputs": [
    {
     "name": "stderr",
     "output_type": "stream",
     "text": [
      "100%|██████████| 100/100 [00:00<00:00, 255.68it/s]\n"
     ]
    }
   ],
   "source": [
    "alpha = 26415\n",
    "\n",
    "err = []\n",
    "sketch = Sketch()\n",
    "sketch.init(X_0.astype(np.complex64), 400)\n",
    "sketch.factorize(alpha=alpha, num_iter=100)\n",
    "X_rec = sketch.reconstruct()"
   ]
  },
  {
   "cell_type": "code",
   "execution_count": 20,
   "metadata": {
    "scrolled": true
   },
   "outputs": [
    {
     "name": "stdout",
     "output_type": "stream",
     "text": [
      "3\n"
     ]
    },
    {
     "data": {
      "text/plain": [
       "<matplotlib.image.AxesImage at 0xa1df56da0>"
      ]
     },
     "execution_count": 20,
     "metadata": {},
     "output_type": "execute_result"
    },
    {
     "data": {
      "image/png": "[encoded data removed]",
      "text/plain": [
       "<Figure size 432x288 with 1 Axes>"
      ]
     },
     "metadata": {
      "needs_background": "light"
     },
     "output_type": "display_data"
    }
   ],
   "source": [
    "# X_rec = U @ np.diag(S) @ V\n",
    "\n",
    "print(np.linalg.matrix_rank(X_rec))\n",
    "\n",
    "plt.imshow(-1 * X_rec, cmap='gray')"
   ]
  },
  {
   "cell_type": "code",
   "execution_count": 12,
   "metadata": {},
   "outputs": [
    {
     "data": {
      "text/plain": [
       "[<matplotlib.lines.Line2D at 0xa1dcd61d0>]"
      ]
     },
     "execution_count": 12,
     "metadata": {},
     "output_type": "execute_result"
    },
    {
     "data": {
      "image/png": "[encoded data removed]",
      "text/plain": [
       "<Figure size 432x288 with 1 Axes>"
      ]
     },
     "metadata": {
      "needs_background": "light"
     },
     "output_type": "display_data"
    }
   ],
   "source": [
    "plt.plot(err)"
   ]
  },
  {
   "cell_type": "code",
   "execution_count": 13,
   "metadata": {},
   "outputs": [],
   "source": [
    "import cvxpy as cvx"
   ]
  },
  {
   "cell_type": "code",
   "execution_count": 14,
   "metadata": {},
   "outputs": [
    {
     "name": "stdout",
     "output_type": "stream",
     "text": [
      "----------------------------------------------------------------------------\n",
      "\tSCS v2.0.2 - Splitting Conic Solver\n",
      "\t(c) Brendan O'Donoghue, Stanford University, 2012-2017\n",
      "----------------------------------------------------------------------------\n",
      "Lin-sys: sparse-indirect, nnz in A = 98688, CG tol ~ 1/iter^(2.00)\n",
      "eps = 1.00e-05, alpha = 1.50, max_iters = 5000, normalize = 1, scale = 1.00\n",
      "acceleration_lookback = 20, rho_x = 1.00e-03\n",
      "Variables n = 65664, constraints m = 98433\n",
      "Cones:\tprimal zero / dual free vars: 16384\n",
      "\tlinear vars: 1\n",
      "\tsd vars: 32896, sd blks: 1\n",
      "\texp vars: 49152, dual exp vars: 0\n",
      "Setup time: 2.37e-02s\n",
      "----------------------------------------------------------------------------\n",
      " Iter | pri res | dua res | rel gap | pri obj | dua obj | kap/tau | time (s)\n",
      "----------------------------------------------------------------------------\n",
      "     0| 1.24e+01  1.52e+01  9.92e-01 -2.60e+10 -9.83e+07  7.11e-06  2.85e-01 \n",
      "   100| 1.21e-03  5.94e-03  2.56e-04 -9.26e+08 -9.25e+08  4.13e-07  2.08e+01 \n",
      "   200| 1.49e-05  8.83e-05  5.06e-05 -9.38e+08 -9.38e+08  6.49e-08  4.06e+01 \n",
      "   220| 7.36e-07  3.33e-06  7.75e-08 -9.38e+08 -9.38e+08  1.14e-07  4.45e+01 \n",
      "----------------------------------------------------------------------------\n",
      "Status: Solved\n",
      "Timing: Solve time: 4.45e+01s\n",
      "\tLin-sys: avg # CG iterations: 3.71, avg solve time: 6.00e-03s\n",
      "\tCones: avg projection time: 1.71e-01s\n",
      "\tAcceleration: avg step time: 1.97e-02s\n",
      "----------------------------------------------------------------------------\n",
      "Error metrics:\n",
      "dist(s, K) = 4.2010e-04, dist(y, K*) = 1.1486e-06, s'y/|s||y| = 2.8308e-12\n",
      "primal res: |Ax + s - b|_2 / (1 + |b|_2) = 7.3565e-07\n",
      "dual res:   |A'y + c|_2 / (1 + |c|_2) = 3.3333e-06\n",
      "rel gap:    |c'x + b'y| / (1 + |c'x| + |b'y|) = 7.7504e-08\n",
      "----------------------------------------------------------------------------\n",
      "c'x = -937944709.5799, -b'y = -937944564.1906\n",
      "============================================================================\n"
     ]
    },
    {
     "data": {
      "text/plain": [
       "-937944709.579898"
      ]
     },
     "execution_count": 14,
     "metadata": {},
     "output_type": "execute_result"
    }
   ],
   "source": [
    "X = cvx.Variable(img.shape)\n",
    "\n",
    "b = A(X_orig)\n",
    "def conv_f(X):\n",
    "    return cvx.sum(cvx.vec(X) - b * cvx.log(cvx.vec(X)))\n",
    "\n",
    "objective = cvx.Minimize(conv_f(X))\n",
    "\n",
    "constraints = [\n",
    "    cvx.norm(X, \"nuc\") <= alpha\n",
    "]\n",
    "\n",
    "p = cvx.Problem(objective, constraints)\n",
    "p.solve(verbose=True)"
   ]
  },
  {
   "cell_type": "code",
   "execution_count": 15,
   "metadata": {},
   "outputs": [
    {
     "data": {
      "text/plain": [
       "<matplotlib.image.AxesImage at 0xa2059d0b8>"
      ]
     },
     "execution_count": 15,
     "metadata": {},
     "output_type": "execute_result"
    },
    {
     "data": {
      "image/png": "[encoded data removed]",
      "text/plain": [
       "<Figure size 432x288 with 1 Axes>"
      ]
     },
     "metadata": {
      "needs_background": "light"
     },
     "output_type": "display_data"
    }
   ],
   "source": [
    "plt.imshow(X.value.real.T, cmap='gray')"
   ]
  },
  {
   "cell_type": "code",
   "execution_count": 16,
   "metadata": {},
   "outputs": [
    {
     "data": {
      "text/plain": [
       "128"
      ]
     },
     "execution_count": 16,
     "metadata": {},
     "output_type": "execute_result"
    }
   ],
   "source": [
    "np.linalg.matrix_rank(X.value.real.T)"
   ]
  },
  {
   "cell_type": "code",
   "execution_count": 17,
   "metadata": {},
   "outputs": [
    {
     "data": {
      "text/plain": [
       "array([[202.51945989, 201.44104174, 199.98750193, ..., 219.00516442,\n",
       "        219.06618047, 219.42713697],\n",
       "       [203.03835048, 201.95717353, 200.49991414, ..., 219.56637528,\n",
       "        219.6275496 , 219.98943695],\n",
       "       [203.30640962, 202.22380303, 200.76462086, ..., 219.85631119,\n",
       "        219.9175673 , 220.27994072],\n",
       "       ...,\n",
       "       [198.19496608, 197.13952538, 195.71693988, ..., 214.32805656,\n",
       "        214.38778772, 214.74105518],\n",
       "       [198.34192521, 197.28570678, 195.8620683 , ..., 214.48699333,\n",
       "        214.5467695 , 214.9002986 ],\n",
       "       [198.46038264, 197.40353083, 195.97904698, ..., 214.61510102,\n",
       "        214.6749134 , 215.02865397]])"
      ]
     },
     "execution_count": 17,
     "metadata": {},
     "output_type": "execute_result"
    }
   ],
   "source": [
    "X.value.real.T"
   ]
  },
  {
   "cell_type": "code",
   "execution_count": 23,
   "metadata": {},
   "outputs": [
    {
     "data": {
      "text/plain": [
       "array([[206.34503651, 206.33928765, 206.33159186, ..., 206.4370569 ,\n",
       "        206.43739569, 206.43947839],\n",
       "       [206.3482129 , 206.34245969, 206.33475805, ..., 206.44030116,\n",
       "        206.44064029, 206.44272462],\n",
       "       [206.34994473, 206.34419082, 206.33648823, ..., 206.44204404,\n",
       "        206.44238323, 206.44446782],\n",
       "       ...,\n",
       "       [206.3217791 , 206.31611656, 206.30853703, ..., 206.41245038,\n",
       "        206.41278217, 206.41483259],\n",
       "       [206.32259619, 206.31693136, 206.30934874, ..., 206.41330336,\n",
       "        206.41363534, 206.41568661],\n",
       "       [206.32325756, 206.31759092, 206.31000586, ..., 206.413993  ,\n",
       "        206.41432513, 206.41637708]])"
      ]
     },
     "execution_count": 23,
     "metadata": {},
     "output_type": "execute_result"
    }
   ],
   "source": [
    "X_rec * -1"
   ]
  },
  {
   "cell_type": "code",
   "execution_count": 28,
   "metadata": {},
   "outputs": [],
   "source": [
    "X_diff = X.value.real.T - np.sign(X_rec) * X_rec"
   ]
  },
  {
   "cell_type": "code",
   "execution_count": 30,
   "metadata": {},
   "outputs": [
    {
     "data": {
      "text/plain": [
       "-0.0008237571977835122"
      ]
     },
     "execution_count": 30,
     "metadata": {},
     "output_type": "execute_result"
    }
   ],
   "source": [
    "np.mean(X_diff) / np.mean(X.value.real.T)"
   ]
  },
  {
   "cell_type": "code",
   "execution_count": 31,
   "metadata": {},
   "outputs": [
    {
     "data": {
      "text/plain": [
       "0.0008230791803843247"
      ]
     },
     "execution_count": 31,
     "metadata": {},
     "output_type": "execute_result"
    }
   ],
   "source": [
    "np.mean(X_diff) / np.mean(X_rec)"
   ]
  }
 ],
 "metadata": {
  "kernelspec": {
   "display_name": "Python 3",
   "language": "python",
   "name": "python3"
  },
  "language_info": {
   "codemirror_mode": {
    "name": "ipython",
    "version": 3
   },
   "file_extension": ".py",
   "mimetype": "text/x-python",
   "name": "python",
   "nbconvert_exporter": "python",
   "pygments_lexer": "ipython3",
   "version": "3.7.0"
  }
 },
 "nbformat": 4,
 "nbformat_minor": 2
}
